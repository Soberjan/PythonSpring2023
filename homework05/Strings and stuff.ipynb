{
 "cells": [
  {
   "cell_type": "markdown",
   "id": "fe014d1d",
   "metadata": {},
   "source": [
    "## Задача 1"
   ]
  },
  {
   "cell_type": "code",
   "execution_count": 13,
   "id": "4f929b7e",
   "metadata": {},
   "outputs": [
    {
     "name": "stdout",
     "output_type": "stream",
     "text": [
      "1 2 3 4 5\n",
      "[1, 3, 5]\n"
     ]
    }
   ],
   "source": [
    "print(list(map(int, input().split()))[::2])"
   ]
  },
  {
   "cell_type": "markdown",
   "id": "ab2f94af",
   "metadata": {},
   "source": [
    "## Задача 2"
   ]
  },
  {
   "cell_type": "code",
   "execution_count": 15,
   "id": "25d7fa82",
   "metadata": {},
   "outputs": [
    {
     "name": "stdout",
     "output_type": "stream",
     "text": [
      "1 2 3 2 1\n",
      "3 2\n"
     ]
    }
   ],
   "source": [
    "a = list(map(int, input().split()))\n",
    "print(max(a), a.index(max(a)))"
   ]
  },
  {
   "cell_type": "markdown",
   "id": "862d1c55",
   "metadata": {},
   "source": [
    "## Задача 3"
   ]
  },
  {
   "cell_type": "code",
   "execution_count": 16,
   "id": "f856a3f3",
   "metadata": {},
   "outputs": [
    {
     "name": "stdout",
     "output_type": "stream",
     "text": [
      "1 2 3 4 5\n",
      "[5, 4, 3, 2, 1]\n"
     ]
    }
   ],
   "source": [
    "print(list(map(int, input().split()))[::-1])"
   ]
  },
  {
   "cell_type": "markdown",
   "id": "9c9dc699",
   "metadata": {},
   "source": [
    "## Задача 4"
   ]
  },
  {
   "cell_type": "code",
   "execution_count": 30,
   "id": "bf0179a0",
   "metadata": {},
   "outputs": [
    {
     "name": "stdout",
     "output_type": "stream",
     "text": [
      "1 2 3 4 5\n",
      "[2, 1, 4, 3, 5]\n"
     ]
    }
   ],
   "source": [
    "l = list(map(int, input().split()))\n",
    "l[:-1:2], l[1::2] = l[1::2], l[:-1:2]\n",
    "print(l)"
   ]
  },
  {
   "cell_type": "markdown",
   "id": "9223e0ff",
   "metadata": {},
   "source": [
    "## Задача 5"
   ]
  },
  {
   "cell_type": "code",
   "execution_count": 36,
   "id": "4440e3c5",
   "metadata": {},
   "outputs": [
    {
     "name": "stdout",
     "output_type": "stream",
     "text": [
      "1 2 3 4 5\n",
      "[5, 1, 2, 3, 4]\n"
     ]
    }
   ],
   "source": [
    "a = list(map(int, input().split()))\n",
    "print(a[-1:] + a[:-1])"
   ]
  },
  {
   "cell_type": "markdown",
   "id": "c64c08d2",
   "metadata": {},
   "source": [
    "## Задача 6"
   ]
  },
  {
   "cell_type": "code",
   "execution_count": 26,
   "id": "6676d912",
   "metadata": {},
   "outputs": [
    {
     "name": "stdout",
     "output_type": "stream",
     "text": [
      "1 2 3 4 5 6\n",
      "2\n",
      "[1, 2][4, 5, 6]\n"
     ]
    }
   ],
   "source": [
    "a = list(map(int, input().split()))\n",
    "ind = int(input())\n",
    "print(str(a[:ind:]) + str(a[ind+1::]))"
   ]
  },
  {
   "cell_type": "markdown",
   "id": "b635f080",
   "metadata": {},
   "source": [
    "## Задача 7"
   ]
  },
  {
   "cell_type": "code",
   "execution_count": 27,
   "id": "43870c69",
   "metadata": {},
   "outputs": [
    {
     "name": "stdout",
     "output_type": "stream",
     "text": [
      "1 2 3 4 5 6\n",
      "2 0\n",
      "[1, 2, 0, 3, 4, 5, 6]\n"
     ]
    }
   ],
   "source": [
    "a = list(map(int, input().split()))\n",
    "n, elem = map(int, input().split())\n",
    "a.insert(n, elem)\n",
    "print(a)"
   ]
  },
  {
   "cell_type": "markdown",
   "id": "cdd9266d",
   "metadata": {},
   "source": [
    "## Задача 8"
   ]
  },
  {
   "cell_type": "code",
   "execution_count": 33,
   "id": "d162e744",
   "metadata": {},
   "outputs": [
    {
     "name": "stdout",
     "output_type": "stream",
     "text": [
      "5 3 7 4 6\n",
      "3\n",
      "[7, 4, 6, 5, 3]\n"
     ]
    }
   ],
   "source": [
    "a = list(map(int, input().split()))\n",
    "shift = int(input())\n",
    "print(a[-shift:] + a[:-shift])"
   ]
  }
 ],
 "metadata": {
  "kernelspec": {
   "display_name": "Python 3 (ipykernel)",
   "language": "python",
   "name": "python3"
  },
  "language_info": {
   "codemirror_mode": {
    "name": "ipython",
    "version": 3
   },
   "file_extension": ".py",
   "mimetype": "text/x-python",
   "name": "python",
   "nbconvert_exporter": "python",
   "pygments_lexer": "ipython3",
   "version": "3.9.12"
  }
 },
 "nbformat": 4,
 "nbformat_minor": 5
}
