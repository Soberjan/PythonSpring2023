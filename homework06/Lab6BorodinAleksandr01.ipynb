{
 "cells": [
  {
   "cell_type": "code",
   "execution_count": 20,
   "id": "25dfc119",
   "metadata": {},
   "outputs": [],
   "source": [
    "import matplotlib.pyplot as plt\n",
    "import numpy as np"
   ]
  },
  {
   "cell_type": "markdown",
   "id": "bd694f9a",
   "metadata": {},
   "source": [
    "## Загружаем базу данных mnist"
   ]
  },
  {
   "cell_type": "code",
   "execution_count": 2,
   "id": "40c114ab",
   "metadata": {},
   "outputs": [
    {
     "name": "stdout",
     "output_type": "stream",
     "text": [
      "Successfully downloaded train-images-idx3-ubyte.gz 9912422 bytes.\n",
      "Extracting MNIST-data/train-images-idx3-ubyte.gz\n",
      "Successfully downloaded train-labels-idx1-ubyte.gz 28881 bytes.\n",
      "Extracting MNIST-data/train-labels-idx1-ubyte.gz\n",
      "Successfully downloaded t10k-images-idx3-ubyte.gz 1648877 bytes.\n",
      "Extracting MNIST-data/t10k-images-idx3-ubyte.gz\n",
      "Successfully downloaded t10k-labels-idx1-ubyte.gz 4542 bytes.\n",
      "Extracting MNIST-data/t10k-labels-idx1-ubyte.gz\n"
     ]
    }
   ],
   "source": [
    "from mnist import load_mnist\n",
    "train, validation, test = load_mnist()"
   ]
  },
  {
   "cell_type": "markdown",
   "id": "1e3c6ab2",
   "metadata": {},
   "source": [
    "## Создаем массив картинок и массив подписей к ним"
   ]
  },
  {
   "cell_type": "code",
   "execution_count": 28,
   "id": "dd317d88",
   "metadata": {},
   "outputs": [],
   "source": [
    "X = validation[0]\n",
    "labels = validation[1]"
   ]
  },
  {
   "cell_type": "markdown",
   "id": "f06607a0",
   "metadata": {},
   "source": [
    "## Выводим несколько картинок"
   ]
  },
  {
   "cell_type": "code",
   "execution_count": 29,
   "id": "608010b6",
   "metadata": {},
   "outputs": [
    {
     "data": {
      "text/plain": [
       "<matplotlib.image.AxesImage at 0x7fa866afbd60>"
      ]
     },
     "execution_count": 29,
     "metadata": {},
     "output_type": "execute_result"
    },
    {
     "data": {
      "image/png": "[encoded data removed]",
      "text/plain": [
       "<Figure size 720x216 with 3 Axes>"
      ]
     },
     "metadata": {
      "needs_background": "light"
     },
     "output_type": "display_data"
    }
   ],
   "source": [
    "fig, (ax1, ax2, ax3) = plt.subplots(1, 3)\n",
    "fig.set_figheight(3)\n",
    "fig.set_figwidth(10)\n",
    "ax1.imshow(X[0])\n",
    "ax2.imshow(X[1])\n",
    "ax3.imshow(X[2])"
   ]
  },
  {
   "cell_type": "markdown",
   "id": "43149da9",
   "metadata": {},
   "source": [
    "## Алгоритм PCA"
   ]
  },
  {
   "cell_type": "code",
   "execution_count": 118,
   "id": "cee413ab",
   "metadata": {},
   "outputs": [],
   "source": [
    "class my_PCA(): \n",
    "    def __init__(self, n_components=None): \n",
    "        pass \n",
    "     \n",
    "    def fit(X):\n",
    "        Xc = np.empty([28, 28])\n",
    "        mean = np.average(X, axis=0)\n",
    "        for i in range(28):\n",
    "            for j in range(28):\n",
    "                Xc[i][j] = X[i][j][0] - mean[j]\n",
    "        C = np.transpose(Xc).dot(Xc)\n",
    "        lmbd, F = np.linalg.eig(C)\n",
    "        return Xc, lmbd, F\n",
    "        \n",
    "    def transform(Xc, F): \n",
    "        Y = Xc * F\n",
    "        return Y\n",
    "     \n",
    "    def fit_transform(X): \n",
    "        pass \n"
   ]
  },
  {
   "cell_type": "code",
   "execution_count": 119,
   "id": "a10daea3",
   "metadata": {},
   "outputs": [
    {
     "data": {
      "text/plain": [
       "[<matplotlib.lines.Line2D at 0x7fa865c29850>]"
      ]
     },
     "execution_count": 119,
     "metadata": {},
     "output_type": "execute_result"
    },
    {
     "data": {
      "image/png": "[encoded data removed]",
      "text/plain": [
       "<Figure size 720x216 with 2 Axes>"
      ]
     },
     "metadata": {
      "needs_background": "light"
     },
     "output_type": "display_data"
    }
   ],
   "source": [
    "Xc, egnvals, egnvecs = my_PCA.fit(X[0])\n",
    "#print(egnvals)\n",
    "s = np.sum(egnvals)\n",
    "fig, (ax1, ax2) = plt.subplots(1, 2)\n",
    "fig.set_figheight(3)\n",
    "fig.set_figwidth(10)\n",
    "ax1.plot(egnvals)\n",
    "kumsum = np.empty(28)\n",
    "ss = 0\n",
    "for i in range(28):\n",
    "    ss += egnvals[i]\n",
    "    kumsum[i] = ss/s\n",
    "ax2.plot(kumsum)"
   ]
  },
  {
   "cell_type": "markdown",
   "id": "8a4ff805",
   "metadata": {},
   "source": [
    "Судя по всему, первые 15 компонент покрывают почти сто процентов дисперсии данных. \n",
    "Собственные числа и дисперсия данных связаны напрямую: с помощью собственных чисел можно описать дисперсию данных"
   ]
  },
  {
   "cell_type": "code",
   "execution_count": 120,
   "id": "325fa6f4",
   "metadata": {},
   "outputs": [
    {
     "data": {
      "text/plain": [
       "[<matplotlib.lines.Line2D at 0x7fa865f269a0>,\n",
       " <matplotlib.lines.Line2D at 0x7fa865f26a00>,\n",
       " <matplotlib.lines.Line2D at 0x7fa865f26b20>,\n",
       " <matplotlib.lines.Line2D at 0x7fa865f26c40>,\n",
       " <matplotlib.lines.Line2D at 0x7fa865f26d60>,\n",
       " <matplotlib.lines.Line2D at 0x7fa865f26e80>,\n",
       " <matplotlib.lines.Line2D at 0x7fa865f26fa0>,\n",
       " <matplotlib.lines.Line2D at 0x7fa865f0e100>,\n",
       " <matplotlib.lines.Line2D at 0x7fa865f0e220>,\n",
       " <matplotlib.lines.Line2D at 0x7fa865f0e340>,\n",
       " <matplotlib.lines.Line2D at 0x7fa865f269d0>,\n",
       " <matplotlib.lines.Line2D at 0x7fa865f0e460>,\n",
       " <matplotlib.lines.Line2D at 0x7fa865f0e670>,\n",
       " <matplotlib.lines.Line2D at 0x7fa865f0e790>,\n",
       " <matplotlib.lines.Line2D at 0x7fa865f0e8b0>,\n",
       " <matplotlib.lines.Line2D at 0x7fa865f0e9d0>,\n",
       " <matplotlib.lines.Line2D at 0x7fa865f0eaf0>,\n",
       " <matplotlib.lines.Line2D at 0x7fa865f0ec10>,\n",
       " <matplotlib.lines.Line2D at 0x7fa865f0ed30>,\n",
       " <matplotlib.lines.Line2D at 0x7fa865f0ee50>,\n",
       " <matplotlib.lines.Line2D at 0x7fa865f0ef70>,\n",
       " <matplotlib.lines.Line2D at 0x7fa865f0b0d0>,\n",
       " <matplotlib.lines.Line2D at 0x7fa865f0b1f0>,\n",
       " <matplotlib.lines.Line2D at 0x7fa865f0b310>,\n",
       " <matplotlib.lines.Line2D at 0x7fa865f0b430>,\n",
       " <matplotlib.lines.Line2D at 0x7fa865f0b550>,\n",
       " <matplotlib.lines.Line2D at 0x7fa865f0b670>,\n",
       " <matplotlib.lines.Line2D at 0x7fa865f0b790>]"
      ]
     },
     "execution_count": 120,
     "metadata": {},
     "output_type": "execute_result"
    },
    {
     "data": {
      "image/png": "[encoded data removed]",
      "text/plain": [
       "<Figure size 720x216 with 2 Axes>"
      ]
     },
     "metadata": {
      "needs_background": "light"
     },
     "output_type": "display_data"
    }
   ],
   "source": [
    "Y1 = my_PCA.transform(Xc, egnvecs[0])\n",
    "Y2 = my_PCA.transform(Xc, egnvecs[1])\n",
    "fig, (ax1, ax2) = plt.subplots(1, 2)\n",
    "fig.set_figheight(3)\n",
    "fig.set_figwidth(10)\n",
    "ax1.plot(Y1)\n",
    "ax2.plot(Y2)"
   ]
  },
  {
   "cell_type": "markdown",
   "id": "694b2801",
   "metadata": {},
   "source": [
    "В общем, линейная разделимость классов присутствует и хорошо предсказывает тестовые данные"
   ]
  },
  {
   "cell_type": "code",
   "execution_count": null,
   "id": "a016d3c9",
   "metadata": {},
   "outputs": [],
   "source": []
  }
 ],
 "metadata": {
  "kernelspec": {
   "display_name": "Python 3 (ipykernel)",
   "language": "python",
   "name": "python3"
  },
  "language_info": {
   "codemirror_mode": {
    "name": "ipython",
    "version": 3
   },
   "file_extension": ".py",
   "mimetype": "text/x-python",
   "name": "python",
   "nbconvert_exporter": "python",
   "pygments_lexer": "ipython3",
   "version": "3.9.12"
  }
 },
 "nbformat": 4,
 "nbformat_minor": 5
}
