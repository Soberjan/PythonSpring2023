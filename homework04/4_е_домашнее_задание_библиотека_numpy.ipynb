{
 "cells": [
  {
   "cell_type": "markdown",
   "metadata": {},
   "source": [
    "## 4-е домашнее задание - Библиотека numpy\n",
    "\n",
    "Подпишите этот блокнот: укажите ФИО и номер группы. Выполненное задание загрузите в свой репозиторий «<b>Spring2023Python</b>» в github в папку \"<b>homework04</b>\".  \n",
    "\n",
    "Перед выполнением этого домашнего задания полезно прочитать про возможности и основные методы библиотеки numpy:  \n",
    "http://acm.mipt.ru/twiki/bin/view/Cintro/PythonNumpy  \n"
   ]
  },
  {
   "cell_type": "code",
   "execution_count": 2,
   "metadata": {},
   "outputs": [],
   "source": [
    "import numpy as np"
   ]
  },
  {
   "cell_type": "markdown",
   "metadata": {},
   "source": [
    "1.\tСоздайте равномерное разбиение интервала от -1.3 до 2.5 на 64 отрезка."
   ]
  },
  {
   "cell_type": "code",
   "execution_count": 3,
   "metadata": {},
   "outputs": [
    {
     "name": "stdout",
     "output_type": "stream",
     "text": [
      "[-1.3      -1.240625 -1.18125  -1.121875 -1.0625   -1.003125 -0.94375\n",
      " -0.884375 -0.825    -0.765625 -0.70625  -0.646875 -0.5875   -0.528125\n",
      " -0.46875  -0.409375 -0.35     -0.290625 -0.23125  -0.171875 -0.1125\n",
      " -0.053125  0.00625   0.065625  0.125     0.184375  0.24375   0.303125\n",
      "  0.3625    0.421875  0.48125   0.540625  0.6       0.659375  0.71875\n",
      "  0.778125  0.8375    0.896875  0.95625   1.015625  1.075     1.134375\n",
      "  1.19375   1.253125  1.3125    1.371875  1.43125   1.490625  1.55\n",
      "  1.609375  1.66875   1.728125  1.7875    1.846875  1.90625   1.965625\n",
      "  2.025     2.084375  2.14375   2.203125  2.2625    2.321875  2.38125\n",
      "  2.440625  2.5     ]\n"
     ]
    }
   ],
   "source": [
    "interval = np.linspace(-1.3, 2.5, 65)\n",
    "print(interval)"
   ]
  },
  {
   "cell_type": "markdown",
   "metadata": {},
   "source": [
    "2.\tСгенерируйте numpy массив длины $3n$, заполненный циклически числами 1, 2, 3, 1, 2, 3, 1...."
   ]
  },
  {
   "cell_type": "code",
   "execution_count": 11,
   "metadata": {},
   "outputs": [
    {
     "name": "stdout",
     "output_type": "stream",
     "text": [
      "[1 2 3 1 2 3 1 2 3 1]\n"
     ]
    }
   ],
   "source": [
    "n = 10\n",
    "arr = np.array([i % 3 + 1 for i in range(n)])\n",
    "print(arr)"
   ]
  },
  {
   "cell_type": "markdown",
   "metadata": {},
   "source": [
    "3.\tСоздайте массив первых 10 нечетных целых чисел."
   ]
  },
  {
   "cell_type": "code",
   "execution_count": 13,
   "metadata": {},
   "outputs": [
    {
     "name": "stdout",
     "output_type": "stream",
     "text": [
      "[ 1  3  5  7  9 11 13 15 17 19]\n"
     ]
    }
   ],
   "source": [
    "n = 10\n",
    "arr = np.array([i for i in range(1, n * 2, 2)])\n",
    "print(arr)"
   ]
  },
  {
   "cell_type": "markdown",
   "metadata": {},
   "source": [
    "4.  Создайте массив нулей размера 10 x 10, а затем создайте в нём \"рамку\" из единиц по краям."
   ]
  },
  {
   "cell_type": "code",
   "execution_count": 6,
   "metadata": {},
   "outputs": [
    {
     "name": "stdout",
     "output_type": "stream",
     "text": [
      "[[1. 0. 0. 0. 0. 0. 0. 0. 0. 1.]\n",
      " [0. 0. 0. 0. 0. 0. 0. 0. 0. 0.]\n",
      " [0. 0. 0. 0. 0. 0. 0. 0. 0. 0.]\n",
      " [0. 0. 0. 0. 0. 0. 0. 0. 0. 0.]\n",
      " [0. 0. 0. 0. 0. 0. 0. 0. 0. 0.]\n",
      " [0. 0. 0. 0. 0. 0. 0. 0. 0. 0.]\n",
      " [0. 0. 0. 0. 0. 0. 0. 0. 0. 0.]\n",
      " [0. 0. 0. 0. 0. 0. 0. 0. 0. 0.]\n",
      " [0. 0. 0. 0. 0. 0. 0. 0. 0. 0.]\n",
      " [1. 0. 0. 0. 0. 0. 0. 0. 0. 1.]]\n"
     ]
    }
   ],
   "source": [
    "n = 10\n",
    "arr = np.zeros((n, n))\n",
    "arr[0, 0] = arr[0, n-1] = arr[n-1, 0] = arr[n-1, n-1] = 1\n",
    "print(arr)"
   ]
  },
  {
   "cell_type": "markdown",
   "metadata": {},
   "source": [
    "5.  Создайте массив 8 x 8 с шахматной доской из нулей и единиц."
   ]
  },
  {
   "cell_type": "code",
   "execution_count": 7,
   "metadata": {},
   "outputs": [
    {
     "name": "stdout",
     "output_type": "stream",
     "text": [
      "[[0. 1. 0. 1. 0. 1. 0. 1.]\n",
      " [1. 0. 1. 0. 1. 0. 1. 0.]\n",
      " [0. 1. 0. 1. 0. 1. 0. 1.]\n",
      " [1. 0. 1. 0. 1. 0. 1. 0.]\n",
      " [0. 1. 0. 1. 0. 1. 0. 1.]\n",
      " [1. 0. 1. 0. 1. 0. 1. 0.]\n",
      " [0. 1. 0. 1. 0. 1. 0. 1.]\n",
      " [1. 0. 1. 0. 1. 0. 1. 0.]]\n"
     ]
    }
   ],
   "source": [
    "n = 8\n",
    "arr = np.zeros((n, n))\n",
    "for i in range(n):\n",
    "    for j in range(n):\n",
    "        if (i + j) % 2 == 0:\n",
    "            arr[i][j] = 0\n",
    "        else:\n",
    "            arr[i][j] = 1\n",
    "print(arr)"
   ]
  },
  {
   "cell_type": "markdown",
   "metadata": {},
   "source": [
    "6.  Создайте функцию, которая создает $n×n$ матрицу с $(i,j)$-элементом, равным $i+j$."
   ]
  },
  {
   "cell_type": "code",
   "execution_count": 8,
   "metadata": {},
   "outputs": [
    {
     "name": "stdout",
     "output_type": "stream",
     "text": [
      "[[ 0.  1.  2.  3.  4.  5.  6.  7.]\n",
      " [ 1.  2.  3.  4.  5.  6.  7.  8.]\n",
      " [ 2.  3.  4.  5.  6.  7.  8.  9.]\n",
      " [ 3.  4.  5.  6.  7.  8.  9. 10.]\n",
      " [ 4.  5.  6.  7.  8.  9. 10. 11.]\n",
      " [ 5.  6.  7.  8.  9. 10. 11. 12.]\n",
      " [ 6.  7.  8.  9. 10. 11. 12. 13.]\n",
      " [ 7.  8.  9. 10. 11. 12. 13. 14.]]\n"
     ]
    }
   ],
   "source": [
    "n = 8\n",
    "arr = np.zeros((n, n))\n",
    "for i in range(n):\n",
    "    for j in range(n):\n",
    "        arr[i][j] = i + j\n",
    "print(arr)"
   ]
  },
  {
   "cell_type": "markdown",
   "metadata": {},
   "source": [
    "7. Примените функцию dot для перемножения вектор на вектор, матрицу на вектор и матрицу на матрицу."
   ]
  },
  {
   "cell_type": "code",
   "execution_count": 9,
   "metadata": {},
   "outputs": [
    {
     "name": "stdout",
     "output_type": "stream",
     "text": [
      "[14]\n",
      "[[14]\n",
      " [20]\n",
      " [32]]\n",
      "[[17 23 29]\n",
      " [24 33 42]\n",
      " [38 53 68]]\n"
     ]
    }
   ],
   "source": [
    "matrix1 = np.array([[1,2,3],[2,3,4],[4,5,6]])\n",
    "matrix2 = np.array([[1,2,3],[2,3,4],[4,5,6]])\n",
    "vec1 = np.array([1, 2, 3])\n",
    "vec2 = np.array([[1],[2],[3]])\n",
    "print(np.dot(vec1, vec2))\n",
    "print(np.dot(matrix1, vec2))\n",
    "print(np.dot(matrix1, matrix2))"
   ]
  },
  {
   "cell_type": "markdown",
   "metadata": {},
   "source": [
    "8. Вычислите cos(x) и sin(x) на интервале [0,1] с шагом $0.05$, а затем объедините оба массива чисел как строки в один массив."
   ]
  },
  {
   "cell_type": "code",
   "execution_count": 10,
   "metadata": {},
   "outputs": [
    {
     "name": "stdout",
     "output_type": "stream",
     "text": [
      "[1.         0.99875026 0.99500417 0.98877108 0.98006658 0.96891242\n",
      " 0.95533649 0.93937271 0.92106099 0.9004471  0.87758256 0.85252452\n",
      " 0.82533561 0.7960838  0.76484219 0.73168887 0.69670671 0.65998315\n",
      " 0.62160997 0.58168309 0.54030231]\n"
     ]
    }
   ],
   "source": [
    "OX = np.linspace(0, 1, 21)\n",
    "OCOS = np.cos(OX)\n",
    "OSIN = np.sin(OX)\n",
    "print(np.array2string(OCOS))"
   ]
  },
  {
   "cell_type": "markdown",
   "metadata": {},
   "source": [
    "9. Создайте матрицу $A$ размера $3×5$ из случайных чисел с равномерным распределением на отрезке $[-1,3]$ (используйте np.random.rand)"
   ]
  },
  {
   "cell_type": "code",
   "execution_count": 65,
   "metadata": {},
   "outputs": [
    {
     "name": "stdout",
     "output_type": "stream",
     "text": [
      "[[ 2.17049139  2.51961305  0.55536444  2.3929117  -0.14572731]\n",
      " [-0.83552503 -0.93853008  2.45931005  1.70505535  1.79697355]\n",
      " [ 1.98479198 -0.17054013  0.06994364  2.09542253 -0.91448014]]\n"
     ]
    }
   ],
   "source": [
    "A = np.random.rand(3, 5) * 4 - 1\n",
    "print(A)"
   ]
  },
  {
   "cell_type": "markdown",
   "metadata": {},
   "source": [
    "10. Найдите сумму всех элементов, сумму внутри строк, сумму внутри столбцов, а также среднее значение, дисперсию и стандартное отклонение чисел для каждой строки матрицы $A$. (Подобно тому, как sorted имеет необязательный аргумент key=, многие функции Numpy имеют необязательный аргумент axis=)\n"
   ]
  },
  {
   "cell_type": "code",
   "execution_count": 66,
   "metadata": {},
   "outputs": [
    {
     "name": "stdout",
     "output_type": "stream",
     "text": [
      "14.745074995491668\n",
      "[3.31975835 1.41054284 3.08461813 6.19338958 0.7367661 ]\n",
      "[7.49265327 4.18728383 3.06513789]\n",
      "\n",
      "Строка [ 2.17049139  2.51961305  0.55536444  2.3929117  -0.14572731] Ср знач 1.4985306547874422 Дисперсия дед инсайд 1.1774409460543809 Отклон 1.0850995097475535\n",
      "\n",
      "Строка [-0.83552503 -0.93853008  2.45931005  1.70505535  1.79697355] Ср знач 0.8374567664297597 Дисперсия дед инсайд 2.0513610383962884 Отклон 1.4322573226890092\n",
      "\n",
      "Строка [ 1.98479198 -0.17054013  0.06994364  2.09542253 -0.91448014] Ср знач 0.6130275778811306 Дисперсия дед инсайд 1.4642861379656769 Отклон 1.2100769140702077\n",
      "\n"
     ]
    }
   ],
   "source": [
    "print(np.sum(A))\n",
    "print(np.sum(A, axis=0))\n",
    "print(np.sum(A, axis=1))\n",
    "print()\n",
    "for row in A:\n",
    "    print(\"Строка\", row, \"Ср знач\", np.average(row), \"Дисперсия дед инсайд\", np.var(row), \"Отклон\", np.std(row))\n",
    "    print()"
   ]
  },
  {
   "cell_type": "markdown",
   "metadata": {},
   "source": [
    "11.  Отнимите от каждого элемента матрицы $A$ среднее по строке и поделите на стандартное отклонение строки."
   ]
  },
  {
   "cell_type": "code",
   "execution_count": 67,
   "metadata": {},
   "outputs": [
    {
     "name": "stdout",
     "output_type": "stream",
     "text": [
      "[[ 0.61926186  0.94100346 -0.8691979   0.82423873 -1.51530616]\n",
      " [-1.16807348 -1.23999146  1.13237562  0.60575608  0.66993324]\n",
      " [ 1.13361753 -0.64753546 -0.44880117  1.22504192 -1.26232283]]\n"
     ]
    }
   ],
   "source": [
    "for i in range(3):\n",
    "    avg = np.average(A[i])\n",
    "    sd = np.std(A[i])\n",
    "    A[i] = (A[i] - avg) / sd\n",
    "print(A)"
   ]
  },
  {
   "cell_type": "markdown",
   "metadata": {},
   "source": [
    "12. Отсортируйте матрицу $A$ по 3-ому столбцу, т.е. поменяйте местами строки матрицы так, чтобы 3-й столбец оказался отсортированным. Используйте для этого slicing + argsort + indexing."
   ]
  },
  {
   "cell_type": "code",
   "execution_count": 69,
   "metadata": {},
   "outputs": [
    {
     "name": "stdout",
     "output_type": "stream",
     "text": [
      "[-0.8691979  -0.44880117  1.13237562]\n",
      "[0 1 2]\n",
      "[[ 0.61926186  0.94100346 -0.8691979   0.82423873 -1.51530616]\n",
      " [ 1.13361753 -0.64753546 -0.44880117  1.22504192 -1.26232283]\n",
      " [-1.16807348 -1.23999146  1.13237562  0.60575608  0.66993324]]\n"
     ]
    }
   ],
   "source": [
    "col = A[:,2]\n",
    "inds = np.argsort(col)\n",
    "B = A.copy()\n",
    "A[0], A[1], A[2] = B[inds[0]], B[inds[1]], B[inds[2]]\n",
    "print(A)"
   ]
  },
  {
   "cell_type": "markdown",
   "metadata": {},
   "source": [
    "13. Посчитайте две матрицы: $B = A^TA$ и $C = AA^T$. Что вы можете о них сказать? Какого они размера? В чём их сходство и отличие?"
   ]
  },
  {
   "cell_type": "code",
   "execution_count": 70,
   "metadata": {},
   "outputs": [
    {
     "name": "stdout",
     "output_type": "stream",
     "text": [
      "[[ 3.03296961  1.29707115 -2.36972792  1.191581   -3.15189384]\n",
      " [ 1.29707115  2.84236851 -1.93143967 -0.76877894 -1.43922105]\n",
      " [-2.36972792 -1.93143967  2.23920203 -0.5802834   2.64224896]\n",
      " [ 1.191581   -0.76877894 -0.5802834   2.54703763 -2.38955628]\n",
      " [-3.15189384 -1.43922105  2.64224896 -2.38955628  4.33842222]]\n",
      "[[ 5.          3.40530259 -3.39030446]\n",
      " [ 3.40530259  5.         -1.13301707]\n",
      " [-3.39030446 -1.13301707  5.        ]]\n"
     ]
    }
   ],
   "source": [
    "B = A.transpose().dot(A)\n",
    "C = A.dot(A.transpose())\n",
    "print(B)\n",
    "print(C)"
   ]
  },
  {
   "cell_type": "markdown",
   "metadata": {},
   "source": [
    "Матрицы красивые. Первая матрица 5 на 5, вторая - 3 на 3. Сходство: матрицы квадратные. Различие: матрицы разных размеров"
   ]
  },
  {
   "cell_type": "markdown",
   "metadata": {},
   "source": [
    "14. Найдите сумму диагональных элементов матриц $B$ и $C$."
   ]
  },
  {
   "cell_type": "code",
   "execution_count": 75,
   "metadata": {},
   "outputs": [
    {
     "name": "stdout",
     "output_type": "stream",
     "text": [
      "[3.03296961 2.84236851 2.23920203 2.54703763 4.33842222]\n",
      "14.999999999999996\n",
      "29.999999999999996\n"
     ]
    }
   ],
   "source": [
    "print(np.sum(B.diagonal()) + np.sum(C.diagonal()))"
   ]
  },
  {
   "cell_type": "markdown",
   "metadata": {},
   "source": [
    "15.\tПосчитайте детерминант и ранг матриц $A$, $B$ и $C$, посмотрите на спектр (набор собственных значений) матриц $B$ и $C$, какие выводы вы можете сделать?  \n",
    "(подсказка: используйте готовые функции из библиотеки np.linalg). \n"
   ]
  },
  {
   "cell_type": "code",
   "execution_count": 83,
   "metadata": {},
   "outputs": [
    {
     "name": "stdout",
     "output_type": "stream",
     "text": [
      "-1.1971085926249535e-30\n",
      "29.29150400030825\n",
      "3\n",
      "3\n",
      "3\n",
      "[ 1.04050148e+01  3.86699535e+00  7.27989841e-01  2.79661582e-16\n",
      " -2.67876770e-16]\n",
      "[10.40501481  0.72798984  3.86699535]\n"
     ]
    }
   ],
   "source": [
    "print(np.linalg.det(B))\n",
    "print(np.linalg.det(C))\n",
    "print(np.linalg.matrix_rank(A))\n",
    "print(np.linalg.matrix_rank(B))\n",
    "print(np.linalg.matrix_rank(C))\n",
    "print(np.linalg.eig(B)[0])\n",
    "print(np.linalg.eig(C)[0])"
   ]
  },
  {
   "cell_type": "markdown",
   "metadata": {},
   "source": [
    "16. Численно посчитать определённый интеграл  3-мя методами:  \n",
    "a)\tПрямоугольников $\\int\\limits_a^b {f(x)dx \\approx \\Delta x\\sum\\limits_{k = 0}^N {f({x_k})} }$  \n",
    "b)\tТрапеций $\\int\\limits_a^b {f(x)dx \\approx \\frac{{\\Delta x}}{2}\\left( {f({x_0}) + 2\\sum\\limits_{k = 1}^{N - 1} {f({x_k})}  + f({x_N})} \\right)}$  \n",
    "c)\tПо правилу Симпсона  $\\int\\limits_a^b {f(x)dx \\approx \\frac{{\\Delta x}}{3}\\left( {f({x_0}) + 2\\sum\\limits_{k = 1}^{N/2 - 1} {f({x_{2k}})}  + 4\\sum\\limits_{k = 1}^{N/2} {f({x_{2k - 1}})}  + f({x_N})} \\right)}$  \n",
    "\n",
    "\n",
    "В реализации этих методов цикл for для суммирования использовать нельзя.  \n",
    "Нужно посчитать значение интеграла с некоторым шагом интегрирования (например начать с 0.1), потом уменьшить его в десять раз и ещё раз посчитать и так до тех пор пока отличие в ответах будет в 5-м знаке после запятой, т.е. чтобы ошибка была меньше 1e-5. Получить ответы для 3-х разных методов и сделать соответствующие выводы.  \n",
    "\n",
    "Далее необходимо сравнить полученные оценки с аналитическим решением (т.е. формульным, которое вы должны сами посчитать на листочке и вбить формулу-ответ).   \n",
    "\n",
    "В качестве интеграла взять два из следующих примеров:  \n",
    "- один с номером, сгенерированным случайным образом с помощью функции np.random.randint(9), в качестве seed для генератора случайных чисел взять номер своего студенческого билета. \n",
    "- второй номер - под номером 9, несобственный интерграл. Подумайте, как сделать подбор шага интегрирования адаптивным.\n",
    "\n",
    "<table width=\"80%\"\n",
    "       align=\"center\">\n",
    "    <tr>\n",
    "        <td> 0) $\\int\\limits_3^4 {\\frac{{{x^2} + 3}}{{x - 2}}dx}$ </td>\n",
    "        <td> 1) $\\int\\limits_{ - 2}^{ - 1} {\\frac{{x + 1}}{{{x^3} - {x^2}}}dx}$ </td>\n",
    "        <td> 2) $\\int\\limits_1^2 {\\frac{{{e^{1/{x^2}}}}}{{{x^3}}}dx}$ </td>\n",
    "        <td> 3) $\\int\\limits_1^e {\\frac{{\\cos (\\ln x)}}{x}dx}$ </td>\n",
    "        <td> 4) $\\int\\limits_1^e {\\frac{{dx}}{{x(1 + {{\\ln }^2}x)}}}$ </td>\n",
    "    </tr>                \n",
    "    <tr>\n",
    "        <td> 5) $\\int\\limits_0^{\\pi /2} {{{\\cos }^3}\\alpha \\;d\\alpha }$ </td>\n",
    "        <td> 6) $\\int\\limits_0^{1/3} {c{h^2}3x\\;dx}$ </td>\n",
    "        <td> 7) $\\int\\limits_2^3 {\\frac{{dy}}{{{y^2} - 2y - 8}}dy}$ </td>\n",
    "        <td> 8) $\\int\\limits_0^2 {\\frac{{2x - 1}}{{2x + 1}}dx}$ </td>\n",
    "        <td> 9) $\\int\\limits_{3/4}^2 {\\frac{{dx}}{{\\sqrt {2 + 3x - 2{x^2}} }}}$ </td>\n",
    "        </tr>\n",
    "</table>"
   ]
  },
  {
   "cell_type": "markdown",
   "metadata": {},
   "source": [
    "## Генерируем вариант"
   ]
  },
  {
   "cell_type": "code",
   "execution_count": 87,
   "metadata": {},
   "outputs": [
    {
     "name": "stdout",
     "output_type": "stream",
     "text": [
      "6\n"
     ]
    }
   ],
   "source": [
    "np.random.seed(1032201716)\n",
    "print(np.random.randint(9))"
   ]
  },
  {
   "cell_type": "markdown",
   "metadata": {},
   "source": [
    "## Решаем интеграл"
   ]
  },
  {
   "cell_type": "code",
   "execution_count": 113,
   "metadata": {},
   "outputs": [
    {
     "name": "stdout",
     "output_type": "stream",
     "text": [
      "131072\n",
      "0.4689136325871791 0.46890503401070827 0.4689050339872516\n",
      "Значение, полученное аналитически: 0.4689050339872516\n"
     ]
    }
   ],
   "source": [
    "def f(x):\n",
    "    return np.cosh(3 * x)**2\n",
    "def rect(OX, dx, N):\n",
    "    return dx * np.sum(f(OX))\n",
    "def trapz(OX, dx, N):\n",
    "    return dx/2 * (f(OX[0]) + 2*np.sum(f(OX[1:N-1])) + f(OX[N-1]))\n",
    "def symp(OX, dx, N):\n",
    "    return dx/3 * (f(OX[0]) + 2*np.sum(f(OX[2:N-1:2])) + 4*np.sum(f(OX[1:N-1:2])) + f(OX[N-1]))\n",
    "rval = 1\n",
    "tval = 2\n",
    "sval = 3\n",
    "eps = 10**(-5)\n",
    "N = 2\n",
    "a = 0\n",
    "b = 1/3\n",
    "while np.abs((rval - tval)) > eps or np.abs((tval - sval)) > eps or np.abs((rval - sval)) > eps:\n",
    "    OX = np.linspace(a, b, N+1)\n",
    "    dx = (b-a)/N\n",
    "    rval = rect(OX, dx, N+1)\n",
    "    tval = trapz(OX, dx, N+1)\n",
    "    sval = symp(OX, dx, N+1)\n",
    "    #print(rval, tval, sval)\n",
    "    N *= 2\n",
    "print(N)\n",
    "print(rval, tval, sval)\n",
    "print(\"Значение, полученное аналитически:\", 0.4689050339872516)"
   ]
  },
  {
   "cell_type": "markdown",
   "metadata": {},
   "source": [
    "## Решаем жуткий интеграл"
   ]
  },
  {
   "cell_type": "code",
   "execution_count": 118,
   "metadata": {},
   "outputs": [
    {
     "name": "stdout",
     "output_type": "stream",
     "text": [
      "0.6528683078315729\n"
     ]
    }
   ],
   "source": [
    "def f(x):\n",
    "    return (2 + 3*x - 2*x**2)**(-1/2)\n",
    "N = 1310272\n",
    "a = 1.5\n",
    "b = 2 - eps # в точке b деление на ноль\n",
    "dx = (b-a)/N\n",
    "OX = np.linspace(a, b, N+1)\n",
    "print(symp(OX, dx, N+1))"
   ]
  }
 ],
 "metadata": {
  "kernelspec": {
   "display_name": "Python 3 (ipykernel)",
   "language": "python",
   "name": "python3"
  },
  "language_info": {
   "codemirror_mode": {
    "name": "ipython",
    "version": 3
   },
   "file_extension": ".py",
   "mimetype": "text/x-python",
   "name": "python",
   "nbconvert_exporter": "python",
   "pygments_lexer": "ipython3",
   "version": "3.9.12"
  }
 },
 "nbformat": 4,
 "nbformat_minor": 2
}
